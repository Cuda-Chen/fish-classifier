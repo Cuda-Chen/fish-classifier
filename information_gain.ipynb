{
 "cells": [
  {
   "cell_type": "code",
   "execution_count": 7,
   "metadata": {},
   "outputs": [
    {
     "name": "stdout",
     "output_type": "stream",
     "text": [
      "['LBP_0', 'LBP_1', 'LBP_2', 'LBP_3', 'LBP_4', 'LBP_5', 'LBP_6', 'LBP_7', 'LBP_8', 'LBP_9', 'fd_0', 'fd_1', 'fd_2', 'fd_3', 'fd_4', 'fd_5', 'fd_6', 'fd_7', 'fd_8', 'fd_9', 'fd_10', 'fd_11', 'fd_12', 'fd_13', 'fd_14', 'fd_15', 'fd_16', 'fd_17', 'fd_18', 'fd_19', 'fd_20', 'fd_21', 'fd_22', 'fd_23', 'fd_24', 'fd_25', 'fd_26', 'fd_27', 'fd_28', 'fd_29', 'fd_30', 'fd_31', 'fd_32', 'fd_33', 'fd_34', 'fd_35', 'fd_36', 'fd_37', 'fd_38', 'fd_39', 'fd_40', 'fd_41', 'fd_42', 'fd_43', 'fd_44', 'fd_45', 'fd_46', 'fd_47', 'fd_48', 'fd_49', 'fd_50', 'fd_51', 'fd_52', 'fd_53', 'fd_54', 'fd_55', 'fd_56', 'fd_57', 'fd_58', 'fd_59', 'fd_60', 'fd_61', 'fd_62', 'fd_63', 'Color_0_0', 'Color_0_1', 'Color_0_2', 'Color_1_0', 'Color_1_1', 'Color_1_2', 'Color_2_0', 'Color_2_1', 'Color_2_2', 'Color_3_0', 'Color_3_1', 'Color_3_2', 'color_4_0', 'Color_4_1', 'Color_4_2', 'Color_5_0', 'Color_5_1', 'Color_5_2', 'Color_6_0', 'Color_6_1', 'Color_6_2', 'Color_7_0', 'Color_7_1', 'Color_7_2', 'Color_8_0', 'Color_8_1', 'Color_8_2', 'Color_9_0', 'Color_9_1', 'Color_9_2', 'Color_10_0', 'Color_10_1', 'Color_10_2', 'Color_11_0', 'Color_11_1', 'Color_11_2', 'Color_12_0', 'Color_12_1', 'Color_12_2', 'Color_13_0', 'Color_13_1', 'Color_13_2', 'Color_14_0', 'Color_14_1', 'Color_14_2', 'Color_15_0', 'Color_15_1', 'Color_15_2']\n"
     ]
    },
    {
     "name": "stderr",
     "output_type": "stream",
     "text": [
      "/usr/local/anaconda3/envs/fishClassifier/lib/python3.6/site-packages/sklearn/utils/validation.py:724: DataConversionWarning: A column-vector y was passed when a 1d array was expected. Please change the shape of y to (n_samples, ), for example using ravel().\n",
      "  y = column_or_1d(y, warn=True)\n"
     ]
    },
    {
     "name": "stdout",
     "output_type": "stream",
     "text": [
      "fd_1 0.5023762849669673\n",
      "Color_13_0 0.4139393176198167\n",
      "Color_12_0 0.4114306267077774\n",
      "Color_10_0 0.38253422619386246\n",
      "Color_12_1 0.3758171432030517\n",
      "Color_8_0 0.3745693681471405\n",
      "LBP_2 0.3737564717104709\n",
      "LBP_6 0.36107586944268544\n",
      "LBP_0 0.35853472592298896\n",
      "Color_9_0 0.3526653469068899\n"
     ]
    }
   ],
   "source": [
    "import pandas as pd\n",
    "from sklearn.feature_selection import mutual_info_classif\n",
    "\n",
    "lbp_train = pd.read_csv('LBP_feature_train.csv')\n",
    "fd_train = pd.read_csv('fd_feature_train.csv')\n",
    "color_som_train = pd.read_csv('color_som_train.csv')\n",
    "\n",
    "x_train = pd.concat([lbp_train, fd_train, color_som_train], axis=1)\n",
    "y_train = pd.read_csv('train_label.csv')\n",
    "\n",
    "title_list = list(x_train.columns)\n",
    "print(title_list)\n",
    "\n",
    "res = mutual_info_classif(x_train, y_train)\n",
    "for score, fname in sorted(zip(res, title_list), reverse=True)[:10]:\n",
    "    print(fname, score)"
   ]
  }
 ],
 "metadata": {
  "kernelspec": {
   "display_name": "Python 3",
   "language": "python",
   "name": "python3"
  },
  "language_info": {
   "codemirror_mode": {
    "name": "ipython",
    "version": 3
   },
   "file_extension": ".py",
   "mimetype": "text/x-python",
   "name": "python",
   "nbconvert_exporter": "python",
   "pygments_lexer": "ipython3",
   "version": "3.6.8"
  }
 },
 "nbformat": 4,
 "nbformat_minor": 2
}
